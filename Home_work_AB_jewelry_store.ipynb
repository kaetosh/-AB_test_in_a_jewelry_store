{
 "cells": [
  {
   "cell_type": "markdown",
   "metadata": {},
   "source": [
    "## А/Б тест в ювелирном интернет-магазине"
   ]
  },
  {
   "cell_type": "code",
   "execution_count": 1,
   "metadata": {},
   "outputs": [],
   "source": [
    "import pandas as pd\n",
    "import matplotlib.pyplot as plt"
   ]
  },
  {
   "cell_type": "markdown",
   "metadata": {},
   "source": [
    "Загрузим наши данные и посмотрим их"
   ]
  },
  {
   "cell_type": "code",
   "execution_count": 2,
   "metadata": {},
   "outputs": [
    {
     "data": {
      "text/html": [
       "<div>\n",
       "<style scoped>\n",
       "    .dataframe tbody tr th:only-of-type {\n",
       "        vertical-align: middle;\n",
       "    }\n",
       "\n",
       "    .dataframe tbody tr th {\n",
       "        vertical-align: top;\n",
       "    }\n",
       "\n",
       "    .dataframe thead th {\n",
       "        text-align: right;\n",
       "    }\n",
       "</style>\n",
       "<table border=\"1\" class=\"dataframe\">\n",
       "  <thead>\n",
       "    <tr style=\"text-align: right;\">\n",
       "      <th></th>\n",
       "      <th>date</th>\n",
       "      <th>Variant</th>\n",
       "      <th>cnt(addToCart)</th>\n",
       "      <th>sum(addToCartItems)</th>\n",
       "    </tr>\n",
       "  </thead>\n",
       "  <tbody>\n",
       "    <tr>\n",
       "      <th>0</th>\n",
       "      <td>2019-09-01</td>\n",
       "      <td>90</td>\n",
       "      <td>56</td>\n",
       "      <td>110247</td>\n",
       "    </tr>\n",
       "    <tr>\n",
       "      <th>1</th>\n",
       "      <td>2019-09-01</td>\n",
       "      <td>10</td>\n",
       "      <td>52</td>\n",
       "      <td>163098</td>\n",
       "    </tr>\n",
       "    <tr>\n",
       "      <th>2</th>\n",
       "      <td>2019-09-02</td>\n",
       "      <td>10</td>\n",
       "      <td>59</td>\n",
       "      <td>93317</td>\n",
       "    </tr>\n",
       "    <tr>\n",
       "      <th>3</th>\n",
       "      <td>2019-09-02</td>\n",
       "      <td>90</td>\n",
       "      <td>56</td>\n",
       "      <td>26457</td>\n",
       "    </tr>\n",
       "    <tr>\n",
       "      <th>4</th>\n",
       "      <td>2019-09-03</td>\n",
       "      <td>90</td>\n",
       "      <td>54</td>\n",
       "      <td>56418</td>\n",
       "    </tr>\n",
       "  </tbody>\n",
       "</table>\n",
       "</div>"
      ],
      "text/plain": [
       "        date  Variant  cnt(addToCart)  sum(addToCartItems)\n",
       "0 2019-09-01       90              56               110247\n",
       "1 2019-09-01       10              52               163098\n",
       "2 2019-09-02       10              59                93317\n",
       "3 2019-09-02       90              56                26457\n",
       "4 2019-09-03       90              54                56418"
      ]
     },
     "execution_count": 2,
     "metadata": {},
     "output_type": "execute_result"
    }
   ],
   "source": [
    "data = pd.read_excel('Ювелирный магазин, данные.xlsx')\n",
    "data.head()"
   ]
  },
  {
   "cell_type": "markdown",
   "metadata": {},
   "source": [
    "Наш датасет включает в себя: дату наблюдения, вариант наблюдения - А (калькулятор подбора, значение 10) и Б (таблица размеров, значение 90), количество добавлений в корзину за одно наблюдение, сумму товаров, добавленных в корзину. Переформируем таблицу таким образом, чтобы данные по А и Б вариантам расположились в отдельных столбцах."
   ]
  },
  {
   "cell_type": "code",
   "execution_count": 3,
   "metadata": {},
   "outputs": [
    {
     "data": {
      "text/html": [
       "<div>\n",
       "<style scoped>\n",
       "    .dataframe tbody tr th:only-of-type {\n",
       "        vertical-align: middle;\n",
       "    }\n",
       "\n",
       "    .dataframe tbody tr th {\n",
       "        vertical-align: top;\n",
       "    }\n",
       "\n",
       "    .dataframe thead th {\n",
       "        text-align: right;\n",
       "    }\n",
       "</style>\n",
       "<table border=\"1\" class=\"dataframe\">\n",
       "  <thead>\n",
       "    <tr style=\"text-align: right;\">\n",
       "      <th></th>\n",
       "      <th>10 cnt(addToCart)</th>\n",
       "      <th>10 sum(addToCartItems)</th>\n",
       "      <th>90 cnt(addToCart)</th>\n",
       "      <th>90 sum(addToCartItems)</th>\n",
       "    </tr>\n",
       "    <tr>\n",
       "      <th>date</th>\n",
       "      <th></th>\n",
       "      <th></th>\n",
       "      <th></th>\n",
       "      <th></th>\n",
       "    </tr>\n",
       "  </thead>\n",
       "  <tbody>\n",
       "    <tr>\n",
       "      <th>2019-09-01</th>\n",
       "      <td>52</td>\n",
       "      <td>163098</td>\n",
       "      <td>56</td>\n",
       "      <td>110247</td>\n",
       "    </tr>\n",
       "    <tr>\n",
       "      <th>2019-09-02</th>\n",
       "      <td>59</td>\n",
       "      <td>93317</td>\n",
       "      <td>56</td>\n",
       "      <td>26457</td>\n",
       "    </tr>\n",
       "    <tr>\n",
       "      <th>2019-09-03</th>\n",
       "      <td>46</td>\n",
       "      <td>16985</td>\n",
       "      <td>54</td>\n",
       "      <td>56418</td>\n",
       "    </tr>\n",
       "    <tr>\n",
       "      <th>2019-09-04</th>\n",
       "      <td>46</td>\n",
       "      <td>31152</td>\n",
       "      <td>59</td>\n",
       "      <td>27379</td>\n",
       "    </tr>\n",
       "    <tr>\n",
       "      <th>2019-09-05</th>\n",
       "      <td>82</td>\n",
       "      <td>32306</td>\n",
       "      <td>49</td>\n",
       "      <td>17503</td>\n",
       "    </tr>\n",
       "  </tbody>\n",
       "</table>\n",
       "</div>"
      ],
      "text/plain": [
       "            10 cnt(addToCart)  10 sum(addToCartItems)  90 cnt(addToCart)  \\\n",
       "date                                                                       \n",
       "2019-09-01                 52                  163098                 56   \n",
       "2019-09-02                 59                   93317                 56   \n",
       "2019-09-03                 46                   16985                 54   \n",
       "2019-09-04                 46                   31152                 59   \n",
       "2019-09-05                 82                   32306                 49   \n",
       "\n",
       "            90 sum(addToCartItems)  \n",
       "date                                \n",
       "2019-09-01                  110247  \n",
       "2019-09-02                   26457  \n",
       "2019-09-03                   56418  \n",
       "2019-09-04                   27379  \n",
       "2019-09-05                   17503  "
      ]
     },
     "execution_count": 3,
     "metadata": {},
     "output_type": "execute_result"
    }
   ],
   "source": [
    "#преобразуем часть данных, относящихся к варианту А\n",
    "data_a = data[data.Variant == 10]\n",
    "data_a.index = data_a.date\n",
    "del data_a['date']\n",
    "del data_a['Variant']\n",
    "data_a.columns = ['10 cnt(addToCart)', '10 sum(addToCartItems)']\n",
    "\n",
    "#преобразуем часть данных, относящихся к варианту Б\n",
    "data_b = data[data.Variant == 90]\n",
    "data_b.index = data_b.date\n",
    "del data_b['date']\n",
    "del data_b['Variant']\n",
    "data_b.columns = ['90 cnt(addToCart)', '90 sum(addToCartItems)']\n",
    "\n",
    "#cоединим таблицы в одну\n",
    "data = pd.concat([data_a, data_b], axis=1, sort=False)\n",
    "data.head()"
   ]
  },
  {
   "cell_type": "markdown",
   "metadata": {},
   "source": [
    "Что использовать в качестве метрики, по которой мы будем оценивать разницу между А и Б вариантами? Количество добавлений в корзину (cnt(addToCart)) - да, действительно поможет оценить разницу, но с точки зрения бизнеса эта метрика не отражает финансовую разницу (выручку). И в то же время сумма товаров (sum(addToCartItems)) без привязки к количеству также не позволит оценить разницу между А и Б вариантами. Например, возможна ситуация, когда введение калькулятора подбора (А вариант) приведет к увеличению количества добавлений в корзину, но стоимость товаров в таких добавлениях будет низкой, тогда как в случае использования таблицы размеров (Б вариант) пользователи могут покупать более дорогие товары, общая стоимость которых выше, чем стоимость товаров при А варианте. Таким образом, для оценки разницы в АБ тесте используем относительную метрику - стоимость товаров на одно добавление в корзину. Добавим необходимые столбцы в таблицу:"
   ]
  },
  {
   "cell_type": "code",
   "execution_count": 4,
   "metadata": {},
   "outputs": [
    {
     "data": {
      "text/html": [
       "<div>\n",
       "<style scoped>\n",
       "    .dataframe tbody tr th:only-of-type {\n",
       "        vertical-align: middle;\n",
       "    }\n",
       "\n",
       "    .dataframe tbody tr th {\n",
       "        vertical-align: top;\n",
       "    }\n",
       "\n",
       "    .dataframe thead th {\n",
       "        text-align: right;\n",
       "    }\n",
       "</style>\n",
       "<table border=\"1\" class=\"dataframe\">\n",
       "  <thead>\n",
       "    <tr style=\"text-align: right;\">\n",
       "      <th></th>\n",
       "      <th>10 cnt(addToCart)</th>\n",
       "      <th>10 sum(addToCartItems)</th>\n",
       "      <th>90 cnt(addToCart)</th>\n",
       "      <th>90 sum(addToCartItems)</th>\n",
       "      <th>10 sum/cnt</th>\n",
       "      <th>90 sum/cnt</th>\n",
       "    </tr>\n",
       "    <tr>\n",
       "      <th>date</th>\n",
       "      <th></th>\n",
       "      <th></th>\n",
       "      <th></th>\n",
       "      <th></th>\n",
       "      <th></th>\n",
       "      <th></th>\n",
       "    </tr>\n",
       "  </thead>\n",
       "  <tbody>\n",
       "    <tr>\n",
       "      <th>2019-09-01</th>\n",
       "      <td>52</td>\n",
       "      <td>163098</td>\n",
       "      <td>56</td>\n",
       "      <td>110247</td>\n",
       "      <td>3136.500000</td>\n",
       "      <td>1968.696429</td>\n",
       "    </tr>\n",
       "    <tr>\n",
       "      <th>2019-09-02</th>\n",
       "      <td>59</td>\n",
       "      <td>93317</td>\n",
       "      <td>56</td>\n",
       "      <td>26457</td>\n",
       "      <td>1581.644068</td>\n",
       "      <td>472.446429</td>\n",
       "    </tr>\n",
       "    <tr>\n",
       "      <th>2019-09-03</th>\n",
       "      <td>46</td>\n",
       "      <td>16985</td>\n",
       "      <td>54</td>\n",
       "      <td>56418</td>\n",
       "      <td>369.239130</td>\n",
       "      <td>1044.777778</td>\n",
       "    </tr>\n",
       "    <tr>\n",
       "      <th>2019-09-04</th>\n",
       "      <td>46</td>\n",
       "      <td>31152</td>\n",
       "      <td>59</td>\n",
       "      <td>27379</td>\n",
       "      <td>677.217391</td>\n",
       "      <td>464.050847</td>\n",
       "    </tr>\n",
       "    <tr>\n",
       "      <th>2019-09-05</th>\n",
       "      <td>82</td>\n",
       "      <td>32306</td>\n",
       "      <td>49</td>\n",
       "      <td>17503</td>\n",
       "      <td>393.975610</td>\n",
       "      <td>357.204082</td>\n",
       "    </tr>\n",
       "  </tbody>\n",
       "</table>\n",
       "</div>"
      ],
      "text/plain": [
       "            10 cnt(addToCart)  10 sum(addToCartItems)  90 cnt(addToCart)  \\\n",
       "date                                                                       \n",
       "2019-09-01                 52                  163098                 56   \n",
       "2019-09-02                 59                   93317                 56   \n",
       "2019-09-03                 46                   16985                 54   \n",
       "2019-09-04                 46                   31152                 59   \n",
       "2019-09-05                 82                   32306                 49   \n",
       "\n",
       "            90 sum(addToCartItems)   10 sum/cnt   90 sum/cnt  \n",
       "date                                                          \n",
       "2019-09-01                  110247  3136.500000  1968.696429  \n",
       "2019-09-02                   26457  1581.644068   472.446429  \n",
       "2019-09-03                   56418   369.239130  1044.777778  \n",
       "2019-09-04                   27379   677.217391   464.050847  \n",
       "2019-09-05                   17503   393.975610   357.204082  "
      ]
     },
     "execution_count": 4,
     "metadata": {},
     "output_type": "execute_result"
    }
   ],
   "source": [
    "#добавим сумму товаров на одно добавление в корзину\n",
    "data['10 sum/cnt'] = data['10 sum(addToCartItems)']/data['10 cnt(addToCart)']\n",
    "data['90 sum/cnt'] = data['90 sum(addToCartItems)']/data['90 cnt(addToCart)']\n",
    "data.head()"
   ]
  },
  {
   "cell_type": "code",
   "execution_count": 5,
   "metadata": {},
   "outputs": [
    {
     "name": "stdout",
     "output_type": "stream",
     "text": [
      "Средняя стоимость товара на одно добавление в корзину в варианте А равна: 814.61, в варианте Б: 729.02\n",
      "Таким образом, средний показатель вариант А больше варианта Б на 85.58\n"
     ]
    }
   ],
   "source": [
    "a_mean = data['10 sum/cnt'].mean()\n",
    "b_mean = data['90 sum/cnt'].mean()\n",
    "diff = np.round(a_mean - b_mean, 2)\n",
    "\n",
    "print(f'Средняя стоимость товара на одно добавление в корзину в варианте А равна: {a_mean:.2f}, в варианте Б: {b_mean:.2f}')\n",
    "print(f'Таким образом, средний показатель вариант А больше варианта Б на {diff}')"
   ]
  },
  {
   "cell_type": "markdown",
   "metadata": {},
   "source": [
    "Сформулируем нулевую гипотезу - результаты А и Б теста являются неразличимыми и отличие целевой метрики в 85,58 - случайность. Альтернативная  гипотеза - обратная нулевой, т.е. разница в тестировании А и Б варианта - статистически значимая.\n",
    "Осталось проверить, сможем ли мы отвергнуть нулевую гипотезу. Для начала посмотрим, являются ли распределения наших целевых метрик нормальным:"
   ]
  },
  {
   "cell_type": "code",
   "execution_count": 6,
   "metadata": {},
   "outputs": [
    {
     "data": {
      "text/plain": [
       "<matplotlib.axes._subplots.AxesSubplot at 0x1caaaba4808>"
      ]
     },
     "execution_count": 6,
     "metadata": {},
     "output_type": "execute_result"
    },
    {
     "data": {
      "image/png": "[encoded data removed]",
      "text/plain": [
       "<Figure size 432x288 with 2 Axes>"
      ]
     },
     "metadata": {
      "needs_background": "light"
     },
     "output_type": "display_data"
    }
   ],
   "source": [
    "plt.suptitle('Гистограмма распределения стоимости товара на одно добавление в корзину', size = 12, y = 0.885) \n",
    "plt.subplots_adjust(wspace=0.2, top=0.7) \n",
    "\n",
    "plt.subplot(1, 2, 1)\n",
    "plt.title('вариант А')\n",
    "data['10 sum/cnt'].hist()\n",
    "\n",
    "plt.subplot(1, 2, 2)\n",
    "plt.title('вариант Б')\n",
    "data['90 sum/cnt'].hist()"
   ]
  },
  {
   "cell_type": "markdown",
   "metadata": {},
   "source": [
    "Как видно из гистограммы - наши данные с явными выбросами и не распределены нормально. Таким образом, будем использовать бутстреп для оценки различий между тестами А и Б:"
   ]
  },
  {
   "cell_type": "code",
   "execution_count": 7,
   "metadata": {},
   "outputs": [],
   "source": [
    "#бутсреп\n",
    "n = 3000\n",
    "differences = np.empty(shape=n)\n",
    "for i in range(n):\n",
    "    a = np.random.choice(a=np.array(data['10 sum/cnt']), size=25)\n",
    "    b = np.random.choice(a=np.array(data['90 sum/cnt']), size=25)\n",
    "    diff_a_b = a.mean() - b.mean()\n",
    "    differences[i] = diff_a_b"
   ]
  },
  {
   "cell_type": "markdown",
   "metadata": {},
   "source": [
    "Мы получили массив значений целевой метрики (переменная differences) в результате многократных  выборок из данных. Считаем долю случаев, когда разность долей оказалась больше 85,58 (переменная diff) – значения, полученного на наших настоящих данных раньше:"
   ]
  },
  {
   "cell_type": "code",
   "execution_count": 8,
   "metadata": {},
   "outputs": [
    {
     "data": {
      "text/plain": [
       "0.5133333333333333"
      ]
     },
     "execution_count": 8,
     "metadata": {},
     "output_type": "execute_result"
    }
   ],
   "source": [
    "len(differences[differences>diff])/len(differences)"
   ]
  },
  {
   "cell_type": "markdown",
   "metadata": {},
   "source": [
    "Полученное значение 0,513 это p-value. Таким образом, если нулевая гипотеза верна, то вероятность того, что при случайном извлечении выборок в А и Б тестах по 25 элементов мы получим разницу в значениях целевой метрики, равную 85.58 или выше, равна 0.513. Принимая уровень значимости 0.05, мы не сможем отвергнуть нулевую гипотезу. Значит разница между А и Б вариантами не имеет место быть, а результат в том, что использование калькулятора подбора вместо таблицы размеров позволит увеличить среднюю стоимость товаров на одно добавление на 85.58 является статистически недостоверным."
   ]
  }
 ],
 "metadata": {
  "hide_input": false,
  "kernelspec": {
   "display_name": "Python 3",
   "language": "python",
   "name": "python3"
  },
  "language_info": {
   "codemirror_mode": {
    "name": "ipython",
    "version": 3
   },
   "file_extension": ".py",
   "mimetype": "text/x-python",
   "name": "python",
   "nbconvert_exporter": "python",
   "pygments_lexer": "ipython3",
   "version": "3.7.5"
  },
  "varInspector": {
   "cols": {
    "lenName": 16,
    "lenType": 16,
    "lenVar": 40
   },
   "kernels_config": {
    "python": {
     "delete_cmd_postfix": "",
     "delete_cmd_prefix": "del ",
     "library": "var_list.py",
     "varRefreshCmd": "print(var_dic_list())"
    },
    "r": {
     "delete_cmd_postfix": ") ",
     "delete_cmd_prefix": "rm(",
     "library": "var_list.r",
     "varRefreshCmd": "cat(var_dic_list()) "
    }
   },
   "types_to_exclude": [
    "module",
    "function",
    "builtin_function_or_method",
    "instance",
    "_Feature"
   ],
   "window_display": false
  }
 },
 "nbformat": 4,
 "nbformat_minor": 2
}
